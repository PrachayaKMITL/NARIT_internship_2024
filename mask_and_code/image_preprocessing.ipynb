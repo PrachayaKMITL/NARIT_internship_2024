{
 "cells": [
  {
   "cell_type": "code",
   "execution_count": null,
   "metadata": {},
   "outputs": [],
   "source": [
    "import numpy as np\n",
    "import cv2\n",
    "import os\n",
    "from IPython.display import Image\n",
    "from matplotlib import pyplot as plt\n",
    "import shutil"
   ]
  },
  {
   "cell_type": "code",
   "execution_count": 1,
   "metadata": {},
   "outputs": [],
   "source": [
    "class Augmentation:\n",
    "    def __init__(self):\n",
    "        pass\n",
    "    \n",
    "    def readFilenmame(path):\n",
    "        image_append = []\n",
    "        for filename in os.listdir(path):\n",
    "            img = cv2.imread(os.path.join(path,filename))\n",
    "            img = cv2.cvtColor(img,cv2.COLOR_BGR2RGB)\n",
    "            image_append.append(img)\n",
    "        return image_append\n",
    "\n",
    "\n",
    "    def addNoise(self,img_list,mean,st):\n",
    "        image_noise = []\n",
    "        for i in img_list:\n",
    "            image=i\n",
    "            mean=mean\n",
    "            st=st\n",
    "            gauss = np.random.normal(mean,st,i.shape)\n",
    "            gauss = gauss.astype('uint8')\n",
    "\n",
    "            image = cv2.add(image,gauss)\n",
    "            image_noise.append(image)\n",
    "        \n",
    "        return image_noise\n",
    "\n",
    "    def addBlur(self,img_list,f_size):\n",
    "        image_blur = []\n",
    "        for i in img_list:\n",
    "            image=i\n",
    "            image_blur.append(cv2.blur(image,(f_size,f_size)))\n",
    "        for i in img_list:\n",
    "            image=i\n",
    "            image_blur.append(cv2.GaussianBlur(image,(f_size,f_size),0))\n",
    "        for i in img_list:\n",
    "            image=i\n",
    "            image_blur.append(cv2.medianBlur(image,f_size))\n",
    "        \n",
    "        return image_blur\n",
    "    \n",
    "    def merge(self,image_noise,image_blur):\n",
    "        merge_image = image_noise+image_blur\n",
    "        return merge_image\n",
    "    \n",
    "    def save_images(self,img_list, output_folder, verbose):\n",
    "        try:\n",
    "            if not os.path.exists(output_folder):\n",
    "                os.makedirs(output_folder)\n",
    "        \n",
    "            for i, img in enumerate(img_list):\n",
    "                img_name = f\"cloud_augment_{i+1}.jpg\"  # Adjust the naming convention as needed\n",
    "                img_path = os.path.join(output_folder, img_name)\n",
    "                rgb = cv2.cvtColor(img,cv2.COLOR_BGR2RGB)\n",
    "                cv2.imwrite(img_path, rgb)\n",
    "                if verbose is True:\n",
    "                    print(\"All_img_saved!\")\n",
    "        except:\n",
    "            print(\"Error\")\n",
    "\n",
    "    "
   ]
  }
 ],
 "metadata": {
  "kernelspec": {
   "display_name": "Python 3",
   "language": "python",
   "name": "python3"
  },
  "language_info": {
   "codemirror_mode": {
    "name": "ipython",
    "version": 3
   },
   "file_extension": ".py",
   "mimetype": "text/x-python",
   "name": "python",
   "nbconvert_exporter": "python",
   "pygments_lexer": "ipython3",
   "version": "3.10.4"
  }
 },
 "nbformat": 4,
 "nbformat_minor": 2
}
