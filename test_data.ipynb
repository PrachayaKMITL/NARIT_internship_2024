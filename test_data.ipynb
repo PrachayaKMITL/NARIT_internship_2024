{
 "cells": [
  {
   "cell_type": "code",
   "execution_count": null,
   "metadata": {},
   "outputs": [],
   "source": [
    "import sklearn\n",
    "from sklearn.cluster import KMeans,MeanShift,AffinityPropagation\n",
    "from sklearn.mixture import GaussianMixture\n",
    "from ConstructDatatset import *\n",
    "import matplotlib.pyplot as plt\n",
    "import pandas as pd\n",
    "import seaborn as sns\n",
    "import numpy as np\n",
    "from TotalCalculation import *\n",
    "from preprocessing import *\n",
    "from ClassPrediction import *"
   ]
  },
  {
   "cell_type": "code",
   "execution_count": null,
   "metadata": {},
   "outputs": [],
   "source": [
    "df,filename = Builddataset().concateDataset(folder_name = r'C:\\Users\\ASUS\\Documents\\NARIT_internship_data\\CSV_dataset_sobel')"
   ]
  },
  {
   "cell_type": "code",
   "execution_count": null,
   "metadata": {},
   "outputs": [],
   "source": [
    "name_y = str('Blue channel')\n",
    "name_x = np.arange(len(df))\n",
    "dintr = np.gradient(df['Blue channel'])\n",
    "dintb = np.gradient(df['Red channel'])\n",
    "\n",
    "plt.figure(figsize=(30,20))\n",
    "sns.lineplot(data=df,x=name_x,y=df[name_y],c='blue')\n",
    "sns.lineplot(data=df,x=name_x,y=df['Red channel'],c='green')\n",
    "sns.lineplot(data=df,x=name_x,y=df['intensity'])\n",
    "plt.plot(dintr)\n",
    "plt.plot(dintb,c='r')"
   ]
  },
  {
   "cell_type": "code",
   "execution_count": null,
   "metadata": {},
   "outputs": [],
   "source": [
    "date = []\n",
    "for i in df.index.tolist():\n",
    "    date.append(timeConvertion().ticks_to_datetime(i,time_zone=7))\n",
    "df['Time'] = date\n"
   ]
  },
  {
   "cell_type": "code",
   "execution_count": null,
   "metadata": {},
   "outputs": [],
   "source": [
    "df"
   ]
  },
  {
   "cell_type": "code",
   "execution_count": null,
   "metadata": {},
   "outputs": [],
   "source": [
    "df['Time (decimal)'] = df['Time'].dt.hour+df['Time'].dt.minute/60"
   ]
  },
  {
   "cell_type": "code",
   "execution_count": null,
   "metadata": {},
   "outputs": [],
   "source": [
    "start_date = '2024-01-01'\n",
    "end_date = str(df['Time'].tolist()[1])\n",
    "location = [18.849417,98.9538]\n",
    "days = timeConvertion().time_duration(start_date,end_date,include_end_date=True).days\n",
    "\n",
    "LSTM = SunPosition.LSTM(time_zone_offset=7)\n",
    "EoT = SunPosition.calculate_EoT(day=days)\n",
    "TC = SunPosition.TimeCorrectionFactor(Longitude=location[1],LSTM=LSTM,EoT=EoT)\n",
    "dec = SunPosition.declination(day=days)\n",
    "suntime = SunPosition.DaytimeInfo(latitude=location[0],declination=dec,TC=TC)\n",
    "sunrise,sunset = SunPosition.DaytimeInfo(latitude=location[0],declination=dec,TC=TC)"
   ]
  },
  {
   "cell_type": "code",
   "execution_count": null,
   "metadata": {},
   "outputs": [],
   "source": [
    "df = df[(df['Time (decimal)'] > sunrise) & (df['Time (decimal)'] < sunset)]"
   ]
  },
  {
   "cell_type": "code",
   "execution_count": null,
   "metadata": {},
   "outputs": [],
   "source": [
    "x = df.drop(columns=['Time (decimal)','Time','Red channel','Blue channel','intensity'])\n",
    "\n",
    "dataset = list(x.itertuples(index=False,name=None))\n",
    "dataset = np.array(dataset)"
   ]
  },
  {
   "cell_type": "code",
   "execution_count": null,
   "metadata": {},
   "outputs": [],
   "source": [
    "df.head(10)"
   ]
  },
  {
   "cell_type": "code",
   "execution_count": null,
   "metadata": {},
   "outputs": [],
   "source": [
    "sns.heatmap(data=x.corr(),cmap='jet',annot=True)"
   ]
  },
  {
   "cell_type": "code",
   "execution_count": null,
   "metadata": {},
   "outputs": [],
   "source": [
    "from sklearn.metrics.pairwise import euclidean_distances\n",
    "np.random.seed(42)\n",
    "\n",
    "kmeans = KMeans(n_clusters=7, tol=1e-5, random_state=42, init='random' ,n_init=20, max_iter=500, algorithm='elkan')\n",
    "#af = AffinityPropagation(damping=0.95, max_iter=500, convergence_iter=20, preference=-50, affinity='euclidean')\n",
    "GMM = GaussianMixture(n_components=7, tol=1e-4, init_params='kmeans',covariance_type='full', max_iter=500, random_state=42, n_init=10)\n",
    "labels = GMM.fit_predict(dataset)\n",
    "labels_kmean = kmeans.fit_predict(dataset)\n",
    "#labels_af = af.fit_predict(dataset)"
   ]
  },
  {
   "cell_type": "code",
   "execution_count": null,
   "metadata": {},
   "outputs": [],
   "source": [
    "df.loc[:, 'Label_GMM'] = labels\n",
    "df.loc[:, 'Label_Kmean'] = labels_kmean\n",
    "#df.loc[:, 'Label_AF'] = labels_af"
   ]
  },
  {
   "cell_type": "code",
   "execution_count": null,
   "metadata": {},
   "outputs": [],
   "source": [
    "plt.figure(figsize=(20,10))\n",
    "plt.subplot(1,2,1)\n",
    "sns.scatterplot(data=df,x=df['dissimilarity'],y=df['homogeneity'],hue=labels,palette='rainbow')\n",
    "plt.subplot(1,2,2)\n",
    "sns.scatterplot(data=df,x=df['dissimilarity'],y=df['homogeneity'],hue=labels_kmean,palette='rainbow')\n"
   ]
  },
  {
   "cell_type": "code",
   "execution_count": null,
   "metadata": {},
   "outputs": [],
   "source": [
    "eva = Evaluation()\n",
    "eva.silhouette(model=kmeans,data=dataset,n=11)"
   ]
  },
  {
   "cell_type": "markdown",
   "metadata": {},
   "source": [
    "import pickle \n",
    "\n",
    "with open('af_model_1.pkl','wb') as f:\n",
    "    pickle.dump(af,f)"
   ]
  },
  {
   "cell_type": "markdown",
   "metadata": {},
   "source": [
    "import pickle\n",
    "with open('gmm_model_2.pkl', 'wb') as f:\n",
    "    pickle.dump(GMM, f)\n",
    "with open('kmean_model_2.pkl', 'wb') as f:\n",
    "    pickle.dump(kmeans, f)"
   ]
  },
  {
   "cell_type": "markdown",
   "metadata": {},
   "source": [
    "from preprocessing import image\n",
    "image_list = image.getFilename(r'C:\\Users\\ASUS\\Documents\\NARIT_internship_data\\Test_folder')"
   ]
  },
  {
   "cell_type": "markdown",
   "metadata": {},
   "source": [
    "filetime = []\n",
    "for file in image_list:\n",
    "    filetime.append(int(os.path.splitext(os.path.basename(file))[0]))\n"
   ]
  },
  {
   "cell_type": "markdown",
   "metadata": {},
   "source": [
    "viz = visualizer()\n",
    "number = 1\n",
    "source_folder = r'All_sky_camera_Astropark_Chaingmai\\2024-06\\2024-06-12'\n",
    "destination_folder = r'C:\\Users\\ASUS\\Documents\\NARIT_internship_2024\\Tester'\n",
    "\n",
    "viz.copy_matching_files(df=viz.match_label(df=df,number=number), source_folder=source_folder, destination_folder=destination_folder)"
   ]
  },
  {
   "cell_type": "markdown",
   "metadata": {},
   "source": [
    "pred = prediction()\n",
    "path = r'All_sky_camera_Astropark_Chaingmai\\2024-06\\2024-06-09\\638534868144584540.png'\n",
    "pred_1,pred_2,cloud_percentage,sky_status,final = pred.total_prediction(image_path=path,mask_path='mask_delete_5.png',crop_size=570,kmeans=kmeans,GMM=GMM,df=df)"
   ]
  },
  {
   "cell_type": "markdown",
   "metadata": {},
   "source": [
    "mask = cv2.imread('mask_delete_5.png',cv2.IMREAD_GRAYSCALE)\n",
    "mask = crop_center(img=mask,crop_size=570)\n",
    "img,name = load_single_image(path=path,crop_size=570,mask=mask,apply_crop_sun=False)\n",
    "image,value,RB = pred.RBsingle(input=img,dataframe=df)\n",
    "cloud_ratio = pred.CloudRatio(image=img,mask=mask)"
   ]
  },
  {
   "cell_type": "markdown",
   "metadata": {},
   "source": [
    "import requests\n",
    "import cv2\n",
    "import numpy as np\n",
    "import hashlib\n",
    "import time\n",
    "\n",
    "def get_image_hash(image_data):\n",
    "    return hashlib.md5(image_data).hexdigest()\n",
    "\n",
    "image_url = \"http://weather.narit.or.th/images/allskyimage/ASTROPARK/2024-08-19\"\n",
    "previous_hash = None\n",
    "\n",
    "while True:\n",
    "    # Fetch the image from the web\n",
    "    response = requests.get(image_url)\n",
    "    if response.status_code == 200:\n",
    "        # Get the current hash of the image\n",
    "        current_hash = get_image_hash(response.content)\n",
    "        \n",
    "        # Compare with the previous hash\n",
    "        if current_hash != previous_hash:\n",
    "            # The image has changed\n",
    "            print(\"Image has changed, updating display...\")\n",
    "            image_array = np.frombuffer(response.content, np.uint8)\n",
    "            image = cv2.imdecode(image_array, cv2.IMREAD_COLOR)\n",
    "            cv2.imshow('Auto-Updated Image', image)\n",
    "            \n",
    "            # Update the previous hash\n",
    "            previous_hash = current_hash\n",
    "            \n",
    "            # Wait for 1 second to avoid rapid flickering\n",
    "            if cv2.waitKey(1000) & 0xFF == ord('q'):\n",
    "                break\n",
    "        else:\n",
    "            print(\"No change detected.\")\n",
    "    \n",
    "    # Check every 10 seconds for a change\n",
    "    time.sleep(10)\n",
    "    cv2.destroyAllWindows()\n"
   ]
  }
 ],
 "metadata": {
  "kernelspec": {
   "display_name": "Python 3",
   "language": "python",
   "name": "python3"
  },
  "language_info": {
   "codemirror_mode": {
    "name": "ipython",
    "version": 3
   },
   "file_extension": ".py",
   "mimetype": "text/x-python",
   "name": "python",
   "nbconvert_exporter": "python",
   "pygments_lexer": "ipython3",
   "version": "3.10.4"
  }
 },
 "nbformat": 4,
 "nbformat_minor": 2
}
