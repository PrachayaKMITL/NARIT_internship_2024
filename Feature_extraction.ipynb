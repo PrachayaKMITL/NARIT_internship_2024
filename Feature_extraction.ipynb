{
 "cells": [
  {
   "cell_type": "code",
   "execution_count": null,
   "metadata": {},
   "outputs": [],
   "source": [
    "import time \n",
    "import datetime\n",
    "from sklearn import metrics,cluster,mixture\n",
    "from matplotlib import pyplot as plt\n",
    "import numpy as np\n",
    "import cv2\n",
    "import seaborn as sns\n",
    "from preprocessing import *"
   ]
  },
  {
   "cell_type": "code",
   "execution_count": null,
   "metadata": {},
   "outputs": [],
   "source": [
    "path = r\"C:\\Users\\ASUS\\Documents\\NARIT_internship_data\\All_sky_camera_Astropark_Chaingmai\\2024-06\\2024-06-17\\638541802295123622.png\"\n",
    "mask = cv2.imread(r\"mask_delete_5.png\",cv2.IMREAD_GRAYSCALE)\n",
    "mask = crop_center(mask,crop_size=570)\n",
    "img = load_single_image(path,mask=mask,apply_crop_sun=True,crop_size=570)[0]\n",
    "plt.imshow(img[0])\n",
    "len(img[0])"
   ]
  },
  {
   "cell_type": "code",
   "execution_count": null,
   "metadata": {},
   "outputs": [],
   "source": [
    "from ClassPrediction import prediction\n",
    "pred = prediction()\n",
    "masked= pred.RBsingle(input=img)[0][0]\n",
    "clahe = cv2.createCLAHE(clipLimit=50, tileGridSize=(8, 8))\n",
    "masked = clahe.apply(masked)\n",
    "plt.imshow(masked,cmap='gray')"
   ]
  },
  {
   "cell_type": "code",
   "execution_count": null,
   "metadata": {},
   "outputs": [],
   "source": [
    "def Edging(input:list,ker_size:int):\n",
    "    grad = []\n",
    "    clahe = cv2.createCLAHE(clipLimit=50, tileGridSize=(8, 8))\n",
    "    for i in input:\n",
    "        i = clahe.apply(i)\n",
    "        gre = ((cv2.Sobel(i, cv2.CV_64F, 0, 1, ksize=ker_size)+cv2.Sobel(i, cv2.CV_64F, 1, 0, ksize=ker_size))/1000)+60\n",
    "        _,thresh = cv2.threshold(gre,0,255,cv2.THRESH_TOZERO)\n",
    "        grad.append(cv2.convertScaleAbs(thresh))\n",
    "    return grad"
   ]
  },
  {
   "cell_type": "code",
   "execution_count": null,
   "metadata": {},
   "outputs": [],
   "source": [
    "properties = ['contrast',\n",
    "            'dissimilarity',\n",
    "            'homogeneity',\n",
    "            'energy',\n",
    "            'correlation',\n",
    "            'ASM']\n",
    "\n",
    "mask_path = r'C:\\Users\\ASUS\\Documents\\NARIT_internship_data\\Mask_obs\\mask_delete_5.png'\n",
    "mask = cv2.imread(mask_path,cv2.IMREAD_GRAYSCALE)\n",
    "mask = mask[(int(mask.shape[0]/2)-270):int((mask.shape[0]/2)+270),int((mask.shape[1]/2)-290):int((mask.shape[1]/2)+280)]\n",
    "path = r\"C:\\Users\\ASUS\\Documents\\NARIT_internship_data\\All_sky_camera_Astropark_Chaingmai\\2024-06\\2024-06-28\"\n",
    "images,filename = load_images_and_preprocess(path,mask=mask,apply_crop_sun=True)\n",
    "masked,value,RB = RBratio(input=images)\n",
    "grad = Edging(input=masked,ker_size=7)"
   ]
  },
  {
   "cell_type": "code",
   "execution_count": null,
   "metadata": {},
   "outputs": [],
   "source": [
    "glcm = computeGlcm(image=grad,distance=[3],angle=[45])\n",
    "df = getDataframe(properties,glcm,index=filename,intensity=value,RB=RB)"
   ]
  },
  {
   "cell_type": "code",
   "execution_count": null,
   "metadata": {},
   "outputs": [],
   "source": [
    "glcm1 = computeGlcm(image=grad,distance=[3],angle=[45])\n",
    "df2 = getDataframe(properties,glcm1,index=filename,intensity=value,RB=RB)"
   ]
  },
  {
   "cell_type": "code",
   "execution_count": null,
   "metadata": {},
   "outputs": [],
   "source": [
    "im = 172\n",
    "print(value[im])\n",
    "tresh = cv2.convertScaleAbs(grad[im])\n",
    "print(\"Cloud percentage :\",showCloudRatio(masked,mask=mask,number=im)*100,\"%\")\n",
    "plt.figure(figsize=(20,20))\n",
    "plt.subplot(1,2,1)\n",
    "plt.imshow(grad[im],cmap='gray')\n",
    "plt.subplot(1,2,2)\n",
    "plt.imshow(masked[im],cmap='gray')"
   ]
  },
  {
   "cell_type": "code",
   "execution_count": null,
   "metadata": {},
   "outputs": [],
   "source": [
    "df.to_csv(r'C:\\Users\\ASUS\\Documents\\NARIT_internship_data\\CSV_dataset_sobel\\GLCM_SobelFeature_ALL_sky_28June_dis3_ang45_test.csv')"
   ]
  },
  {
   "cell_type": "code",
   "execution_count": null,
   "metadata": {},
   "outputs": [],
   "source": [
    "df = df.loc[df[\"intensity\"] >= 75]"
   ]
  },
  {
   "cell_type": "code",
   "execution_count": null,
   "metadata": {},
   "outputs": [],
   "source": [
    "df2 = df2.loc[df2[\"intensity\"] >= 75]"
   ]
  },
  {
   "cell_type": "code",
   "execution_count": null,
   "metadata": {},
   "outputs": [],
   "source": [
    "sns.scatterplot(data=df,x=df['dissimilarity'],y=df['ASM'],hue=df['intensity'])"
   ]
  },
  {
   "cell_type": "code",
   "execution_count": null,
   "metadata": {},
   "outputs": [],
   "source": [
    "sns.scatterplot(data=df2,x=df2['dissimilarity'],y=df2['ASM'],hue=df2['intensity'])"
   ]
  },
  {
   "cell_type": "code",
   "execution_count": null,
   "metadata": {},
   "outputs": [],
   "source": [
    "sns.heatmap(df.corr(),annot=True)"
   ]
  },
  {
   "cell_type": "code",
   "execution_count": null,
   "metadata": {},
   "outputs": [],
   "source": [
    "sns.heatmap(df2.corr(),annot=True)"
   ]
  }
 ],
 "metadata": {
  "kernelspec": {
   "display_name": "Python 3",
   "language": "python",
   "name": "python3"
  },
  "language_info": {
   "codemirror_mode": {
    "name": "ipython",
    "version": 3
   },
   "file_extension": ".py",
   "mimetype": "text/x-python",
   "name": "python",
   "nbconvert_exporter": "python",
   "pygments_lexer": "ipython3",
   "version": "3.10.4"
  }
 },
 "nbformat": 4,
 "nbformat_minor": 2
}
