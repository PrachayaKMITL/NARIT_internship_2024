{
 "cells": [
  {
   "cell_type": "code",
   "execution_count": 1,
   "metadata": {},
   "outputs": [],
   "source": [
    "import sys\n",
    "import os\n",
    "import shutil\n",
    "import numpy as np\n",
    "import astropy.units as u\n",
    "from astropy.coordinates import EarthLocation, AltAz, get_sun\n",
    "from astropy.time import Time\n",
    "from astropy.coordinates import solar_system_ephemeris\n",
    "sys.path.append(os.path.abspath(os.path.join(os.getcwd(), '..')))\n",
    "import cv2\n",
    "import pandas as pd\n",
    "from preprocessing import preprocessData,thresholding \n",
    "from TotalCalculation import timeConvertion,SunPosition\n",
    "from matplotlib import pyplot as plt\n",
    "from ClassPrediction import prediction"
   ]
  },
  {
   "cell_type": "code",
   "execution_count": 2,
   "metadata": {},
   "outputs": [],
   "source": [
    "image_directory = r'C:\\Users\\ASUS\\Documents\\NARIT_internship_data\\All_sky_camera_Astropark_Chaingmai\\2024-06\\2024-06-08'\n",
    "mask = cv2.imread(r'masks\\mask_delete_5.png',cv2.IMREAD_GRAYSCALE)\n",
    "start_date = '2024-01-01'\n",
    "end_date = os.path.basename(image_directory)\n",
    "location = [18.849417,98.9538]\n",
    "days = timeConvertion().time_duration(start_date,end_date,include_end_date=True).days\n",
    "\n",
    "LSTM = SunPosition.LSTM(time_zone_offset=7)\n",
    "EoT = SunPosition.calculate_EoT(day=days)\n",
    "TC = SunPosition.TimeCorrectionFactor(Longitude=location[1],LSTM=LSTM,EoT=EoT)\n",
    "dec = SunPosition.declination(day=days)\n",
    "suntime = SunPosition.DaytimeInfo(latitude=location[0],declination=dec,TC=TC)\n",
    "sunrise1,sunset1 = SunPosition.DaytimeInfo(latitude=location[0],declination=dec,TC=TC)"
   ]
  },
  {
   "cell_type": "code",
   "execution_count": 3,
   "metadata": {},
   "outputs": [],
   "source": [
    "def copy_categorical_day(image_directory,output_directory,mask_directory,classes,mode):\n",
    "    image_directory = image_directory\n",
    "    mask = cv2.imread(mask_directory,cv2.IMREAD_GRAYSCALE)\n",
    "    mask = preprocessData().crop_center(mask,crop_size=570)\n",
    "    images,name = preprocessData().load_images_and_preprocess(path=image_directory,mask=mask,apply_crop_sun=True)\n",
    "    final,_,_ = thresholding().RBratio(input=images,filename=name,Time_zone=7,sunrise=sunrise1,sunset=sunset1)\n",
    "    filtering = lambda x : (x > sunrise1) & (x < sunset1)\n",
    "    decimal = [timeConvertion().datetime_to_decimal(time=timeConvertion().ticks_to_datetime(ticks=t,time_zone=7)) for t in name]\n",
    "    if mode == 'day':\n",
    "        day_indices = [index for index, value in enumerate(decimal) if filtering(value)]\n",
    "        final_day = final[0:len(day_indices)]\n",
    "        name_day = [name[i] for i in day_indices]\n",
    "        percentage = [prediction().CloudRatio(i,mask=mask) for i in final_day]\n",
    "        classifier = [prediction().classify_sky(i,r) for i,r in percentage]\n",
    "        for i in range(len(classifier)):\n",
    "            if classifier[i] == classes:\n",
    "                original = os.path.join(image_directory,f\"{name_day[i]}.png\")\n",
    "                shutil.copy2(original,output_directory)"
   ]
  },
  {
   "cell_type": "code",
   "execution_count": 41,
   "metadata": {},
   "outputs": [
    {
     "name": "stdout",
     "output_type": "stream",
     "text": [
      "Day 01 : Copying complete\n",
      "Day 02 : Copying complete\n",
      "Day 03 : Copying complete\n",
      "Day 04 : Copying complete\n",
      "Day 05 : Copying complete\n",
      "Day 06 : Copying complete\n",
      "Day 07 : Copying complete\n",
      "Day 08 : Copying complete\n",
      "Day 09 : Copying complete\n",
      "Day 10 : Copying complete\n",
      "Day 11 : Copying complete\n",
      "Day 12 : Copying complete\n",
      "Day 13 : Copying complete\n",
      "Day 14 : Copying complete\n",
      "Day 15 : Copying complete\n",
      "Day 16 : Copying complete\n",
      "Day 17 : Copying complete\n",
      "Day 18 : Copying complete\n",
      "Day 19 : Copying complete\n",
      "Day 20 : Copying complete\n",
      "Day 21 : Copying complete\n",
      "Day 22 : Copying complete\n",
      "Day 23 : Copying complete\n",
      "Day 24 : Copying complete\n",
      "Day 25 : Copying complete\n",
      "Day 26 : Copying complete\n",
      "Day 27 : Copying complete\n",
      "Day 28 : Copying complete\n",
      "Day 29 : Copying complete\n",
      "Day 30 : Copying complete\n"
     ]
    }
   ],
   "source": [
    "image_directory = r'C:\\Users\\ASUS\\Documents\\NARIT_internship_data\\All_sky_camera_Astropark_Chaingmai\\2024-06'\n",
    "for i in range(len(os.listdir(image_directory))):\n",
    "    i = i+1\n",
    "    if i < 10:\n",
    "        day = str(0)+str(i)\n",
    "    else:\n",
    "        day = str(i)\n",
    "    folder = os.path.join(image_directory,f'2024-06-{day}')\n",
    "    copy_categorical_day(folder,mask_directory=r'C:\\Users\\ASUS\\Documents\\NARIT_internship_2024\\NARIT_internship_2024\\masks\\mask_delete_5.png',\n",
    "                        output_directory=r'C:\\Users\\ASUS\\Documents\\NARIT_internship_data\\Test_categorical_new\\Clear',mode='day',classes='Clear sky (0 oktas)')\n",
    "    print(f\"Day {day} : Copying complete\")"
   ]
  },
  {
   "cell_type": "markdown",
   "metadata": {},
   "source": [
    "def copy_categorical(target_directory:str,mask_directory:str,mode:str,classes:str,suntime:list):\n",
    "    mask = cv2.imread(r'C:\\Users\\ASUS\\Documents\\NARIT_internship_2024\\NARIT_internship_2024\\masks\\mask_delete_5.png',cv2.IMREAD_GRAYSCALE)\n",
    "    mask = preprocessData().crop_center(mask,crop_size=570)\n",
    "    images,name = preprocessData().load_images_and_preprocess(path=r'C:\\Users\\ASUS\\Documents\\NARIT_internship_data\\All_sky_camera_Astropark_Chaingmai\\2024-06\\2024-06-08',mask=mask,apply_crop_sun=True)\n",
    "    final,_,_ = thresholding().RBratio(input=images,filename=name,Time_zone=7,sunrise=sunrise1,sunset=sunset1)\n",
    "    filtering = lambda x : (x > suntime[0]) & (x < suntime[1])\n",
    "    decimal = [timeConvertion().datetime_to_decimal(time=timeConvertion().ticks_to_datetime(ticks=t,time_zone=7)) for t in name]\n",
    "    filename = []\n",
    "    if mode == 'day':\n",
    "        classes = []\n",
    "        day_indices = [index for index, value in enumerate(decimal) if filtering(value)]\n",
    "        final_day = final[0:len(day_indices)]\n",
    "        name_day = [name[i] for i in day_indices]\n",
    "        percentage = [prediction().CloudRatio(i,mask=mask) for i in final_day]\n",
    "        classifier = [prediction().classify_sky(i,r) for i,r in percentage]\n",
    "        for i in range(len(classifier)):\n",
    "            if classifier[i] == classes:\n",
    "                filename.append(name_day[i])\n",
    "    if mode == 'night':\n",
    "        night_indices = [index for index, value in enumerate(decimal) if not filtering(value)]\n",
    "        final_night = final[0:len(night_indices)]\n",
    "        name_night = [name[i] for i in night_indices]\n",
    "        percentage = [prediction().CloudRatio(i,mask=mask) for i in final_night]\n",
    "        classifier = [prediction().classify_sky(i,r) for i,r in percentage]\n",
    "        for i in range(len(classifier)):\n",
    "            if classifier[i] == classes:\n",
    "                filename.append(name_night[i])\n",
    "    return filename"
   ]
  },
  {
   "cell_type": "markdown",
   "metadata": {},
   "source": [
    "name = copy_categorical(target_directory=image_directory,mask_directory=r'C:\\Users\\ASUS\\Documents\\NARIT_internship_2024\\NARIT_internship_2024\\masks\\mask_delete_5.png',mode='day',classes='Partly Broken (5 oktas)',suntime=[sunrise1,sunset1])"
   ]
  }
 ],
 "metadata": {
  "kernelspec": {
   "display_name": "Python 3",
   "language": "python",
   "name": "python3"
  },
  "language_info": {
   "codemirror_mode": {
    "name": "ipython",
    "version": 3
   },
   "file_extension": ".py",
   "mimetype": "text/x-python",
   "name": "python",
   "nbconvert_exporter": "python",
   "pygments_lexer": "ipython3",
   "version": "3.10.4"
  }
 },
 "nbformat": 4,
 "nbformat_minor": 2
}
