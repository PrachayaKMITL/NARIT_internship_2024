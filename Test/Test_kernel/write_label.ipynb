{
 "cells": [
  {
   "cell_type": "code",
   "execution_count": 14,
   "metadata": {},
   "outputs": [],
   "source": [
    "import sys\n",
    "import os\n",
    "import shutil\n",
    "sys.path.append(os.path.abspath(os.path.join(os.getcwd(), '..','..')))\n",
    "import numpy as np\n",
    "import cv2\n",
    "import pandas as pd\n",
    "from src.preprocessing import preprocessData,thresholding \n",
    "from src.TotalCalculation import timeConvertion,SunPosition\n",
    "from matplotlib import pyplot as plt\n",
    "from src.ClassPrediction import prediction"
   ]
  },
  {
   "cell_type": "code",
   "execution_count": 15,
   "metadata": {},
   "outputs": [],
   "source": [
    "image_directory = r'C:\\Users\\ASUS\\Documents\\NARIT_internship_data\\All_sky_camera_Astropark_Chaingmai\\2024-06\\2024-06-08'\n",
    "mask = cv2.imread(r'masks\\mask_delete_5.png',cv2.IMREAD_GRAYSCALE)\n",
    "start_date = '2024-01-01'\n",
    "end_date = os.path.basename(image_directory)\n",
    "location = [18.849417,98.9538]\n",
    "days = timeConvertion().time_duration(start_date,end_date,include_end_date=True).days\n",
    "\n",
    "LSTM = SunPosition.LSTM(time_zone_offset=7)\n",
    "EoT = SunPosition.calculate_EoT(day=days)\n",
    "TC = SunPosition.TimeCorrectionFactor(Longitude=location[1],LSTM=LSTM,EoT=EoT)\n",
    "dec = SunPosition.declination(day=days)\n",
    "suntime = SunPosition.DaytimeInfo(latitude=location[0],declination=dec,TC=TC)\n",
    "sunrise1,sunset1 = SunPosition.DaytimeInfo(latitude=location[0],declination=dec,TC=TC)"
   ]
  },
  {
   "cell_type": "code",
   "execution_count": 24,
   "metadata": {},
   "outputs": [],
   "source": [
    "def copy_categorical_day(image_directory,output_directory,mask_directory,classes,mode):\n",
    "    image_directory = image_directory\n",
    "    mask = cv2.imread(mask_directory,cv2.IMREAD_GRAYSCALE)\n",
    "    mask = preprocessData().crop_center(mask,crop_size=570)\n",
    "    images,name = preprocessData().load_images_and_preprocess(path=image_directory,mask=mask,apply_crop_sun=True)\n",
    "    final,_,_ = thresholding().RBratio(input=images,filename=name,factor=[1,0.83],Time_zone=7,sunrise=sunrise1,sunset=sunset1)\n",
    "    filtering = lambda x : (x > sunrise1) & (x < sunset1)\n",
    "    decimal = [timeConvertion().datetime_to_decimal(time=timeConvertion().ticks_to_datetime(ticks=t,time_zone=7)) for t in name]\n",
    "    if mode == 'day':\n",
    "        day_indices = [index for index, value in enumerate(decimal) if filtering(value)]\n",
    "        final_day = final[0:len(day_indices)]\n",
    "        name_day = [name[i] for i in day_indices]\n",
    "        percentage = [prediction().CloudRatio(i,mask=mask) for i in final_day]\n",
    "        classifier = [prediction().classify_sky(i,r) for i,r in percentage]\n",
    "        for i in range(len(classifier)):\n",
    "            if classifier[i] == classes:\n",
    "                original = os.path.join(image_directory,f\"{name_day[i]}.png\")\n",
    "                shutil.copy2(original,output_directory)\n",
    "    if mode == 'night':\n",
    "        day_indices = [index for index, value in enumerate(decimal) if not filtering(value)]\n",
    "        final_day = final[0:len(day_indices)]\n",
    "        name_day = [name[i] for i in day_indices]\n",
    "        percentage = [prediction().CloudRatio(i,mask=mask) for i in final_day]\n",
    "        classifier = [prediction().classify_sky(i,r) for i,r in percentage]\n",
    "        for i in range(len(classifier)):\n",
    "            if classifier[i] == classes:\n",
    "                original = os.path.join(image_directory,f\"{name_day[i]}.png\")\n",
    "                shutil.copy2(original,output_directory)"
   ]
  },
  {
   "cell_type": "code",
   "execution_count": 27,
   "metadata": {},
   "outputs": [
    {
     "ename": "FileNotFoundError",
     "evalue": "[WinError 3] The system cannot find the path specified: 'C:\\\\Users\\\\ASUS\\\\Documents\\\\NARIT_internship_data\\\\All_sky_camera_Astropark_Chaingmai\\\\2023-12\\\\2024-06-01'",
     "output_type": "error",
     "traceback": [
      "\u001b[1;31m---------------------------------------------------------------------------\u001b[0m",
      "\u001b[1;31mFileNotFoundError\u001b[0m                         Traceback (most recent call last)",
      "Cell \u001b[1;32mIn[27], line 9\u001b[0m\n\u001b[0;32m      7\u001b[0m     day \u001b[38;5;241m=\u001b[39m \u001b[38;5;28mstr\u001b[39m(i)\n\u001b[0;32m      8\u001b[0m folder \u001b[38;5;241m=\u001b[39m os\u001b[38;5;241m.\u001b[39mpath\u001b[38;5;241m.\u001b[39mjoin(image_directory,\u001b[38;5;124mf\u001b[39m\u001b[38;5;124m'\u001b[39m\u001b[38;5;124m2024-06-\u001b[39m\u001b[38;5;132;01m{\u001b[39;00mday\u001b[38;5;132;01m}\u001b[39;00m\u001b[38;5;124m'\u001b[39m)\n\u001b[1;32m----> 9\u001b[0m \u001b[43mcopy_categorical_day\u001b[49m\u001b[43m(\u001b[49m\u001b[43mfolder\u001b[49m\u001b[43m,\u001b[49m\u001b[43mmask_directory\u001b[49m\u001b[38;5;241;43m=\u001b[39;49m\u001b[38;5;124;43mr\u001b[39;49m\u001b[38;5;124;43m'\u001b[39;49m\u001b[38;5;124;43mC:\u001b[39;49m\u001b[38;5;124;43m\\\u001b[39;49m\u001b[38;5;124;43mUsers\u001b[39;49m\u001b[38;5;124;43m\\\u001b[39;49m\u001b[38;5;124;43mASUS\u001b[39;49m\u001b[38;5;124;43m\\\u001b[39;49m\u001b[38;5;124;43mDocuments\u001b[39;49m\u001b[38;5;124;43m\\\u001b[39;49m\u001b[38;5;124;43mNARIT_internship_2024\u001b[39;49m\u001b[38;5;124;43m\\\u001b[39;49m\u001b[38;5;124;43mNARIT_internship_2024\u001b[39;49m\u001b[38;5;124;43m\\\u001b[39;49m\u001b[38;5;124;43mmasks\u001b[39;49m\u001b[38;5;124;43m\\\u001b[39;49m\u001b[38;5;124;43mDomestic observatories\u001b[39;49m\u001b[38;5;124;43m\\\u001b[39;49m\u001b[38;5;124;43mmask_122023.png\u001b[39;49m\u001b[38;5;124;43m'\u001b[39;49m\u001b[43m,\u001b[49m\n\u001b[0;32m     10\u001b[0m \u001b[43m                    \u001b[49m\u001b[43moutput_directory\u001b[49m\u001b[38;5;241;43m=\u001b[39;49m\u001b[38;5;124;43mr\u001b[39;49m\u001b[38;5;124;43m'\u001b[39;49m\u001b[38;5;124;43mC:\u001b[39;49m\u001b[38;5;124;43m\\\u001b[39;49m\u001b[38;5;124;43mUsers\u001b[39;49m\u001b[38;5;124;43m\\\u001b[39;49m\u001b[38;5;124;43mASUS\u001b[39;49m\u001b[38;5;124;43m\\\u001b[39;49m\u001b[38;5;124;43mDocuments\u001b[39;49m\u001b[38;5;124;43m\\\u001b[39;49m\u001b[38;5;124;43mNARIT_internship_data\u001b[39;49m\u001b[38;5;124;43m\\\u001b[39;49m\u001b[38;5;124;43mTest_categorical_New\u001b[39;49m\u001b[38;5;124;43m\\\u001b[39;49m\u001b[38;5;124;43mTest\u001b[39;49m\u001b[38;5;124;43m'\u001b[39;49m\u001b[43m,\u001b[49m\u001b[43mmode\u001b[49m\u001b[38;5;241;43m=\u001b[39;49m\u001b[38;5;124;43m'\u001b[39;49m\u001b[38;5;124;43mday\u001b[39;49m\u001b[38;5;124;43m'\u001b[39;49m\u001b[43m,\u001b[49m\u001b[43mclasses\u001b[49m\u001b[38;5;241;43m=\u001b[39;49m\u001b[38;5;124;43m'\u001b[39;49m\u001b[38;5;124;43mClear sky (0 oktas)\u001b[39;49m\u001b[38;5;124;43m'\u001b[39;49m\u001b[43m)\u001b[49m\n\u001b[0;32m     11\u001b[0m \u001b[38;5;28mprint\u001b[39m(\u001b[38;5;124mf\u001b[39m\u001b[38;5;124m\"\u001b[39m\u001b[38;5;124mDay \u001b[39m\u001b[38;5;132;01m{\u001b[39;00mday\u001b[38;5;132;01m}\u001b[39;00m\u001b[38;5;124m : Copying complete\u001b[39m\u001b[38;5;124m\"\u001b[39m)\n",
      "Cell \u001b[1;32mIn[24], line 5\u001b[0m, in \u001b[0;36mcopy_categorical_day\u001b[1;34m(image_directory, output_directory, mask_directory, classes, mode)\u001b[0m\n\u001b[0;32m      3\u001b[0m mask \u001b[38;5;241m=\u001b[39m cv2\u001b[38;5;241m.\u001b[39mimread(mask_directory,cv2\u001b[38;5;241m.\u001b[39mIMREAD_GRAYSCALE)\n\u001b[0;32m      4\u001b[0m mask \u001b[38;5;241m=\u001b[39m preprocessData()\u001b[38;5;241m.\u001b[39mcrop_center(mask,crop_size\u001b[38;5;241m=\u001b[39m\u001b[38;5;241m570\u001b[39m)\n\u001b[1;32m----> 5\u001b[0m images,name \u001b[38;5;241m=\u001b[39m \u001b[43mpreprocessData\u001b[49m\u001b[43m(\u001b[49m\u001b[43m)\u001b[49m\u001b[38;5;241;43m.\u001b[39;49m\u001b[43mload_images_and_preprocess\u001b[49m\u001b[43m(\u001b[49m\u001b[43mpath\u001b[49m\u001b[38;5;241;43m=\u001b[39;49m\u001b[43mimage_directory\u001b[49m\u001b[43m,\u001b[49m\u001b[43mmask\u001b[49m\u001b[38;5;241;43m=\u001b[39;49m\u001b[43mmask\u001b[49m\u001b[43m,\u001b[49m\u001b[43mapply_crop_sun\u001b[49m\u001b[38;5;241;43m=\u001b[39;49m\u001b[38;5;28;43;01mTrue\u001b[39;49;00m\u001b[43m)\u001b[49m\n\u001b[0;32m      6\u001b[0m final,_,_ \u001b[38;5;241m=\u001b[39m thresholding()\u001b[38;5;241m.\u001b[39mRBratio(\u001b[38;5;28minput\u001b[39m\u001b[38;5;241m=\u001b[39mimages,filename\u001b[38;5;241m=\u001b[39mname,factor\u001b[38;5;241m=\u001b[39m[\u001b[38;5;241m1\u001b[39m,\u001b[38;5;241m0.83\u001b[39m],Time_zone\u001b[38;5;241m=\u001b[39m\u001b[38;5;241m7\u001b[39m,sunrise\u001b[38;5;241m=\u001b[39msunrise1,sunset\u001b[38;5;241m=\u001b[39msunset1)\n\u001b[0;32m      7\u001b[0m filtering \u001b[38;5;241m=\u001b[39m \u001b[38;5;28;01mlambda\u001b[39;00m x : (x \u001b[38;5;241m>\u001b[39m sunrise1) \u001b[38;5;241m&\u001b[39m (x \u001b[38;5;241m<\u001b[39m sunset1)\n",
      "File \u001b[1;32mc:\\Users\\ASUS\\Documents\\NARIT_internship_2024\\NARIT_internship_2024\\src\\preprocessing.py:106\u001b[0m, in \u001b[0;36mpreprocessData.load_images_and_preprocess\u001b[1;34m(self, path, mask, apply_crop_sun)\u001b[0m\n\u001b[0;32m    104\u001b[0m images \u001b[38;5;241m=\u001b[39m []\n\u001b[0;32m    105\u001b[0m name \u001b[38;5;241m=\u001b[39m []\n\u001b[1;32m--> 106\u001b[0m \u001b[38;5;28;01mfor\u001b[39;00m filename \u001b[38;5;129;01min\u001b[39;00m \u001b[43mos\u001b[49m\u001b[38;5;241;43m.\u001b[39;49m\u001b[43mlistdir\u001b[49m\u001b[43m(\u001b[49m\u001b[43mpath\u001b[49m\u001b[43m)\u001b[49m:\n\u001b[0;32m    107\u001b[0m     img \u001b[38;5;241m=\u001b[39m cv2\u001b[38;5;241m.\u001b[39mimread(os\u001b[38;5;241m.\u001b[39mpath\u001b[38;5;241m.\u001b[39mjoin(path,filename))\n\u001b[0;32m    108\u001b[0m     img \u001b[38;5;241m=\u001b[39m preprocessData()\u001b[38;5;241m.\u001b[39mcrop_center(img)\n",
      "\u001b[1;31mFileNotFoundError\u001b[0m: [WinError 3] The system cannot find the path specified: 'C:\\\\Users\\\\ASUS\\\\Documents\\\\NARIT_internship_data\\\\All_sky_camera_Astropark_Chaingmai\\\\2023-12\\\\2024-06-01'"
     ]
    }
   ],
   "source": [
    "image_directory = r'C:\\Users\\ASUS\\Documents\\NARIT_internship_data\\All_sky_camera_Astropark_Chaingmai\\2023-12'\n",
    "for i in range(len(os.listdir(image_directory))):\n",
    "    i = i+1\n",
    "    if i < 10:\n",
    "        day = str(0)+str(i)\n",
    "    else:\n",
    "        day = str(i)\n",
    "    folder = os.path.join(image_directory,f'2023-12-{day}')\n",
    "    copy_categorical_day(folder,mask_directory=r'C:\\Users\\ASUS\\Documents\\NARIT_internship_2024\\NARIT_internship_2024\\masks\\Domestic observatories\\mask_122023.png',\n",
    "                        output_directory=r'C:\\Users\\ASUS\\Documents\\NARIT_internship_data\\Test_categorical_New\\Test',mode='day',classes='Clear sky (0 oktas)')\n",
    "    print(f\"Day {day} : Copying complete\")"
   ]
  },
  {
   "cell_type": "markdown",
   "metadata": {},
   "source": [
    "def copy_categorical(target_directory:str,mask_directory:str,mode:str,classes:str,suntime:list):\n",
    "    mask = cv2.imread(r'C:\\Users\\ASUS\\Documents\\NARIT_internship_2024\\NARIT_internship_2024\\masks\\mask_delete_5.png',cv2.IMREAD_GRAYSCALE)\n",
    "    mask = preprocessData().crop_center(mask,crop_size=570)\n",
    "    images,name = preprocessData().load_images_and_preprocess(path=r'C:\\Users\\ASUS\\Documents\\NARIT_internship_data\\All_sky_camera_Astropark_Chaingmai\\2024-06\\2024-06-08',mask=mask,apply_crop_sun=True)\n",
    "    final,_,_ = thresholding().RBratio(input=images,filename=name,Time_zone=7,sunrise=sunrise1,sunset=sunset1)\n",
    "    filtering = lambda x : (x > suntime[0]) & (x < suntime[1])\n",
    "    decimal = [timeConvertion().datetime_to_decimal(time=timeConvertion().ticks_to_datetime(ticks=t,time_zone=7)) for t in name]\n",
    "    filename = []\n",
    "    if mode == 'day':\n",
    "        classes = []\n",
    "        day_indices = [index for index, value in enumerate(decimal) if filtering(value)]\n",
    "        final_day = final[0:len(day_indices)]\n",
    "        name_day = [name[i] for i in day_indices]\n",
    "        percentage = [prediction().CloudRatio(i,mask=mask) for i in final_day]\n",
    "        classifier = [prediction().classify_sky(i,r) for i,r in percentage]\n",
    "        for i in range(len(classifier)):\n",
    "            if classifier[i] == classes:\n",
    "                filename.append(name_day[i])\n",
    "    if mode == 'night':\n",
    "        night_indices = [index for index, value in enumerate(decimal) if not filtering(value)]\n",
    "        final_night = final[0:len(night_indices)]\n",
    "        name_night = [name[i] for i in night_indices]\n",
    "        percentage = [prediction().CloudRatio(i,mask=mask) for i in final_night]\n",
    "        classifier = [prediction().classify_sky(i,r) for i,r in percentage]\n",
    "        for i in range(len(classifier)):\n",
    "            if classifier[i] == classes:\n",
    "                filename.append(name_night[i])\n",
    "    return filename"
   ]
  },
  {
   "cell_type": "markdown",
   "metadata": {},
   "source": [
    "name = copy_categorical(target_directory=image_directory,mask_directory=r'C:\\Users\\ASUS\\Documents\\NARIT_internship_2024\\NARIT_internship_2024\\masks\\mask_delete_5.png',mode='day',classes='Partly Broken (5 oktas)',suntime=[sunrise1,sunset1])"
   ]
  }
 ],
 "metadata": {
  "kernelspec": {
   "display_name": "Python 3",
   "language": "python",
   "name": "python3"
  },
  "language_info": {
   "codemirror_mode": {
    "name": "ipython",
    "version": 3
   },
   "file_extension": ".py",
   "mimetype": "text/x-python",
   "name": "python",
   "nbconvert_exporter": "python",
   "pygments_lexer": "ipython3",
   "version": "3.10.4"
  }
 },
 "nbformat": 4,
 "nbformat_minor": 2
}
